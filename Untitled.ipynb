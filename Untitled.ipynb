{
 "cells": [
  {
   "cell_type": "code",
   "execution_count": 2,
   "id": "724ea367-ce5f-4f86-9b2a-424ee11c0c18",
   "metadata": {},
   "outputs": [],
   "source": [
    "# Import data manipulation library\n",
    "import pandas as pd\n",
    "import numpy as np\n",
    "# Import data visualization library\n",
    "import seaborn as sns\n",
    "import matplotlib.pyplot as plt\n",
    "# Import filter warning Libraries\n",
    "import warnings\n",
    "warnings.filterwarnings('ignore')"
   ]
  },
  {
   "cell_type": "code",
   "execution_count": 4,
   "id": "c1c1e473-d931-4def-ac61-44cc0801e0f4",
   "metadata": {},
   "outputs": [
    {
     "data": {
      "text/html": [
       "<div>\n",
       "<style scoped>\n",
       "    .dataframe tbody tr th:only-of-type {\n",
       "        vertical-align: middle;\n",
       "    }\n",
       "\n",
       "    .dataframe tbody tr th {\n",
       "        vertical-align: top;\n",
       "    }\n",
       "\n",
       "    .dataframe thead th {\n",
       "        text-align: right;\n",
       "    }\n",
       "</style>\n",
       "<table border=\"1\" class=\"dataframe\">\n",
       "  <thead>\n",
       "    <tr style=\"text-align: right;\">\n",
       "      <th></th>\n",
       "      <th>Ware_house_ID</th>\n",
       "      <th>WH_Manager_ID</th>\n",
       "      <th>Location_type</th>\n",
       "      <th>WH_capacity_size</th>\n",
       "      <th>zone</th>\n",
       "      <th>WH_regional_zone</th>\n",
       "      <th>num_refill_req_l3m</th>\n",
       "      <th>transport_issue_l1y</th>\n",
       "      <th>Competitor_in_mkt</th>\n",
       "      <th>retail_shop_num</th>\n",
       "      <th>...</th>\n",
       "      <th>electric_supply</th>\n",
       "      <th>dist_from_hub</th>\n",
       "      <th>workers_num</th>\n",
       "      <th>wh_est_year</th>\n",
       "      <th>storage_issue_reported_l3m</th>\n",
       "      <th>temp_reg_mach</th>\n",
       "      <th>approved_wh_govt_certificate</th>\n",
       "      <th>wh_breakdown_l3m</th>\n",
       "      <th>govt_check_l3m</th>\n",
       "      <th>product_wg_ton</th>\n",
       "    </tr>\n",
       "  </thead>\n",
       "  <tbody>\n",
       "    <tr>\n",
       "      <th>10066</th>\n",
       "      <td>WH_110066</td>\n",
       "      <td>EID_60066</td>\n",
       "      <td>Rural</td>\n",
       "      <td>Large</td>\n",
       "      <td>North</td>\n",
       "      <td>Zone 6</td>\n",
       "      <td>4</td>\n",
       "      <td>2</td>\n",
       "      <td>3</td>\n",
       "      <td>5685</td>\n",
       "      <td>...</td>\n",
       "      <td>1</td>\n",
       "      <td>247</td>\n",
       "      <td>30.0</td>\n",
       "      <td>NaN</td>\n",
       "      <td>14</td>\n",
       "      <td>0</td>\n",
       "      <td>B</td>\n",
       "      <td>3</td>\n",
       "      <td>29</td>\n",
       "      <td>16103</td>\n",
       "    </tr>\n",
       "    <tr>\n",
       "      <th>2886</th>\n",
       "      <td>WH_102886</td>\n",
       "      <td>EID_52886</td>\n",
       "      <td>Rural</td>\n",
       "      <td>Mid</td>\n",
       "      <td>South</td>\n",
       "      <td>Zone 2</td>\n",
       "      <td>1</td>\n",
       "      <td>0</td>\n",
       "      <td>4</td>\n",
       "      <td>5603</td>\n",
       "      <td>...</td>\n",
       "      <td>0</td>\n",
       "      <td>240</td>\n",
       "      <td>19.0</td>\n",
       "      <td>NaN</td>\n",
       "      <td>35</td>\n",
       "      <td>1</td>\n",
       "      <td>A+</td>\n",
       "      <td>2</td>\n",
       "      <td>32</td>\n",
       "      <td>50137</td>\n",
       "    </tr>\n",
       "    <tr>\n",
       "      <th>21503</th>\n",
       "      <td>WH_121503</td>\n",
       "      <td>EID_71503</td>\n",
       "      <td>Rural</td>\n",
       "      <td>Large</td>\n",
       "      <td>North</td>\n",
       "      <td>Zone 6</td>\n",
       "      <td>4</td>\n",
       "      <td>4</td>\n",
       "      <td>3</td>\n",
       "      <td>5889</td>\n",
       "      <td>...</td>\n",
       "      <td>1</td>\n",
       "      <td>59</td>\n",
       "      <td>30.0</td>\n",
       "      <td>NaN</td>\n",
       "      <td>8</td>\n",
       "      <td>1</td>\n",
       "      <td>A</td>\n",
       "      <td>5</td>\n",
       "      <td>23</td>\n",
       "      <td>11090</td>\n",
       "    </tr>\n",
       "    <tr>\n",
       "      <th>9683</th>\n",
       "      <td>WH_109683</td>\n",
       "      <td>EID_59683</td>\n",
       "      <td>Rural</td>\n",
       "      <td>Large</td>\n",
       "      <td>South</td>\n",
       "      <td>Zone 6</td>\n",
       "      <td>1</td>\n",
       "      <td>0</td>\n",
       "      <td>2</td>\n",
       "      <td>5296</td>\n",
       "      <td>...</td>\n",
       "      <td>0</td>\n",
       "      <td>64</td>\n",
       "      <td>26.0</td>\n",
       "      <td>NaN</td>\n",
       "      <td>28</td>\n",
       "      <td>0</td>\n",
       "      <td>A</td>\n",
       "      <td>6</td>\n",
       "      <td>29</td>\n",
       "      <td>38136</td>\n",
       "    </tr>\n",
       "    <tr>\n",
       "      <th>19755</th>\n",
       "      <td>WH_119755</td>\n",
       "      <td>EID_69755</td>\n",
       "      <td>Rural</td>\n",
       "      <td>Large</td>\n",
       "      <td>North</td>\n",
       "      <td>Zone 5</td>\n",
       "      <td>3</td>\n",
       "      <td>0</td>\n",
       "      <td>4</td>\n",
       "      <td>3001</td>\n",
       "      <td>...</td>\n",
       "      <td>1</td>\n",
       "      <td>249</td>\n",
       "      <td>23.0</td>\n",
       "      <td>2012.0</td>\n",
       "      <td>18</td>\n",
       "      <td>0</td>\n",
       "      <td>B+</td>\n",
       "      <td>2</td>\n",
       "      <td>25</td>\n",
       "      <td>21143</td>\n",
       "    </tr>\n",
       "    <tr>\n",
       "      <th>...</th>\n",
       "      <td>...</td>\n",
       "      <td>...</td>\n",
       "      <td>...</td>\n",
       "      <td>...</td>\n",
       "      <td>...</td>\n",
       "      <td>...</td>\n",
       "      <td>...</td>\n",
       "      <td>...</td>\n",
       "      <td>...</td>\n",
       "      <td>...</td>\n",
       "      <td>...</td>\n",
       "      <td>...</td>\n",
       "      <td>...</td>\n",
       "      <td>...</td>\n",
       "      <td>...</td>\n",
       "      <td>...</td>\n",
       "      <td>...</td>\n",
       "      <td>...</td>\n",
       "      <td>...</td>\n",
       "      <td>...</td>\n",
       "      <td>...</td>\n",
       "    </tr>\n",
       "    <tr>\n",
       "      <th>2422</th>\n",
       "      <td>WH_102422</td>\n",
       "      <td>EID_52422</td>\n",
       "      <td>Rural</td>\n",
       "      <td>Mid</td>\n",
       "      <td>South</td>\n",
       "      <td>Zone 3</td>\n",
       "      <td>0</td>\n",
       "      <td>1</td>\n",
       "      <td>3</td>\n",
       "      <td>3621</td>\n",
       "      <td>...</td>\n",
       "      <td>0</td>\n",
       "      <td>83</td>\n",
       "      <td>17.0</td>\n",
       "      <td>NaN</td>\n",
       "      <td>14</td>\n",
       "      <td>0</td>\n",
       "      <td>A+</td>\n",
       "      <td>6</td>\n",
       "      <td>19</td>\n",
       "      <td>18114</td>\n",
       "    </tr>\n",
       "    <tr>\n",
       "      <th>18963</th>\n",
       "      <td>WH_118963</td>\n",
       "      <td>EID_68963</td>\n",
       "      <td>Rural</td>\n",
       "      <td>Small</td>\n",
       "      <td>West</td>\n",
       "      <td>Zone 6</td>\n",
       "      <td>2</td>\n",
       "      <td>1</td>\n",
       "      <td>4</td>\n",
       "      <td>3728</td>\n",
       "      <td>...</td>\n",
       "      <td>1</td>\n",
       "      <td>96</td>\n",
       "      <td>31.0</td>\n",
       "      <td>NaN</td>\n",
       "      <td>4</td>\n",
       "      <td>0</td>\n",
       "      <td>B+</td>\n",
       "      <td>2</td>\n",
       "      <td>2</td>\n",
       "      <td>5082</td>\n",
       "    </tr>\n",
       "    <tr>\n",
       "      <th>11939</th>\n",
       "      <td>WH_111939</td>\n",
       "      <td>EID_61939</td>\n",
       "      <td>Rural</td>\n",
       "      <td>Large</td>\n",
       "      <td>North</td>\n",
       "      <td>Zone 5</td>\n",
       "      <td>5</td>\n",
       "      <td>0</td>\n",
       "      <td>3</td>\n",
       "      <td>4290</td>\n",
       "      <td>...</td>\n",
       "      <td>0</td>\n",
       "      <td>116</td>\n",
       "      <td>23.0</td>\n",
       "      <td>2002.0</td>\n",
       "      <td>22</td>\n",
       "      <td>0</td>\n",
       "      <td>A</td>\n",
       "      <td>6</td>\n",
       "      <td>25</td>\n",
       "      <td>29148</td>\n",
       "    </tr>\n",
       "    <tr>\n",
       "      <th>20565</th>\n",
       "      <td>WH_120565</td>\n",
       "      <td>EID_70565</td>\n",
       "      <td>Rural</td>\n",
       "      <td>Mid</td>\n",
       "      <td>North</td>\n",
       "      <td>Zone 2</td>\n",
       "      <td>2</td>\n",
       "      <td>0</td>\n",
       "      <td>4</td>\n",
       "      <td>5140</td>\n",
       "      <td>...</td>\n",
       "      <td>0</td>\n",
       "      <td>195</td>\n",
       "      <td>NaN</td>\n",
       "      <td>NaN</td>\n",
       "      <td>26</td>\n",
       "      <td>0</td>\n",
       "      <td>B+</td>\n",
       "      <td>2</td>\n",
       "      <td>12</td>\n",
       "      <td>31127</td>\n",
       "    </tr>\n",
       "    <tr>\n",
       "      <th>6143</th>\n",
       "      <td>WH_106143</td>\n",
       "      <td>EID_56143</td>\n",
       "      <td>Rural</td>\n",
       "      <td>Large</td>\n",
       "      <td>North</td>\n",
       "      <td>Zone 6</td>\n",
       "      <td>2</td>\n",
       "      <td>0</td>\n",
       "      <td>4</td>\n",
       "      <td>4713</td>\n",
       "      <td>...</td>\n",
       "      <td>1</td>\n",
       "      <td>56</td>\n",
       "      <td>31.0</td>\n",
       "      <td>NaN</td>\n",
       "      <td>22</td>\n",
       "      <td>0</td>\n",
       "      <td>B</td>\n",
       "      <td>3</td>\n",
       "      <td>23</td>\n",
       "      <td>27098</td>\n",
       "    </tr>\n",
       "  </tbody>\n",
       "</table>\n",
       "<p>22150 rows × 24 columns</p>\n",
       "</div>"
      ],
      "text/plain": [
       "      Ware_house_ID WH_Manager_ID Location_type WH_capacity_size   zone  \\\n",
       "10066     WH_110066     EID_60066         Rural            Large  North   \n",
       "2886      WH_102886     EID_52886         Rural              Mid  South   \n",
       "21503     WH_121503     EID_71503         Rural            Large  North   \n",
       "9683      WH_109683     EID_59683         Rural            Large  South   \n",
       "19755     WH_119755     EID_69755         Rural            Large  North   \n",
       "...             ...           ...           ...              ...    ...   \n",
       "2422      WH_102422     EID_52422         Rural              Mid  South   \n",
       "18963     WH_118963     EID_68963         Rural            Small   West   \n",
       "11939     WH_111939     EID_61939         Rural            Large  North   \n",
       "20565     WH_120565     EID_70565         Rural              Mid  North   \n",
       "6143      WH_106143     EID_56143         Rural            Large  North   \n",
       "\n",
       "      WH_regional_zone  num_refill_req_l3m  transport_issue_l1y  \\\n",
       "10066           Zone 6                   4                    2   \n",
       "2886            Zone 2                   1                    0   \n",
       "21503           Zone 6                   4                    4   \n",
       "9683            Zone 6                   1                    0   \n",
       "19755           Zone 5                   3                    0   \n",
       "...                ...                 ...                  ...   \n",
       "2422            Zone 3                   0                    1   \n",
       "18963           Zone 6                   2                    1   \n",
       "11939           Zone 5                   5                    0   \n",
       "20565           Zone 2                   2                    0   \n",
       "6143            Zone 6                   2                    0   \n",
       "\n",
       "       Competitor_in_mkt  retail_shop_num  ... electric_supply  dist_from_hub  \\\n",
       "10066                  3             5685  ...               1            247   \n",
       "2886                   4             5603  ...               0            240   \n",
       "21503                  3             5889  ...               1             59   \n",
       "9683                   2             5296  ...               0             64   \n",
       "19755                  4             3001  ...               1            249   \n",
       "...                  ...              ...  ...             ...            ...   \n",
       "2422                   3             3621  ...               0             83   \n",
       "18963                  4             3728  ...               1             96   \n",
       "11939                  3             4290  ...               0            116   \n",
       "20565                  4             5140  ...               0            195   \n",
       "6143                   4             4713  ...               1             56   \n",
       "\n",
       "       workers_num  wh_est_year  storage_issue_reported_l3m  temp_reg_mach  \\\n",
       "10066         30.0          NaN                          14              0   \n",
       "2886          19.0          NaN                          35              1   \n",
       "21503         30.0          NaN                           8              1   \n",
       "9683          26.0          NaN                          28              0   \n",
       "19755         23.0       2012.0                          18              0   \n",
       "...            ...          ...                         ...            ...   \n",
       "2422          17.0          NaN                          14              0   \n",
       "18963         31.0          NaN                           4              0   \n",
       "11939         23.0       2002.0                          22              0   \n",
       "20565          NaN          NaN                          26              0   \n",
       "6143          31.0          NaN                          22              0   \n",
       "\n",
       "       approved_wh_govt_certificate  wh_breakdown_l3m  govt_check_l3m  \\\n",
       "10066                             B                 3              29   \n",
       "2886                             A+                 2              32   \n",
       "21503                             A                 5              23   \n",
       "9683                              A                 6              29   \n",
       "19755                            B+                 2              25   \n",
       "...                             ...               ...             ...   \n",
       "2422                             A+                 6              19   \n",
       "18963                            B+                 2               2   \n",
       "11939                             A                 6              25   \n",
       "20565                            B+                 2              12   \n",
       "6143                              B                 3              23   \n",
       "\n",
       "       product_wg_ton  \n",
       "10066           16103  \n",
       "2886            50137  \n",
       "21503           11090  \n",
       "9683            38136  \n",
       "19755           21143  \n",
       "...               ...  \n",
       "2422            18114  \n",
       "18963            5082  \n",
       "11939           29148  \n",
       "20565           31127  \n",
       "6143            27098  \n",
       "\n",
       "[22150 rows x 24 columns]"
      ]
     },
     "execution_count": 4,
     "metadata": {},
     "output_type": "execute_result"
    }
   ],
   "source": [
    "# Import data using URL fro GITHUB\n",
    "url = 'https://raw.githubusercontent.com/rutuja0703/SUPPLYCHAIN-/refs/heads/main/SCM.csv'\n",
    "\n",
    "df = pd.read_csv(url)\n",
    "\n",
    "df.sample(frac = 1) # Data Shuffle"
   ]
  },
  {
   "cell_type": "code",
   "execution_count": 8,
   "id": "0c307dbe-b66e-40d5-87de-2365558ce678",
   "metadata": {},
   "outputs": [
    {
     "data": {
      "image/png": "[encoded data removed]",
      "text/plain": [
       "<Figure size 640x480 with 1 Axes>"
      ]
     },
     "metadata": {},
     "output_type": "display_data"
    }
   ],
   "source": [
    "# checking null values in dataset\n",
    "df.isnull().sum().plot(kind ='barh',cmap = 'viridis')\n",
    "plt.title('bar plot showing null values in dataset')\n",
    "plt.show()"
   ]
  },
  {
   "cell_type": "code",
   "execution_count": 18,
   "id": "23c366b4-3e6a-44dd-843e-1c72ea92ccb6",
   "metadata": {},
   "outputs": [
    {
     "data": {
      "text/plain": [
       "3.6343115124153504"
      ]
     },
     "execution_count": 18,
     "metadata": {},
     "output_type": "execute_result"
    }
   ],
   "source": [
    "#calculate missing value percentage:\n",
    "df['approved_wh_govt_certificate'].isnull().sum()/ len(df['approved_wh_govt_certificate'])*100"
   ]
  },
  {
   "cell_type": "code",
   "execution_count": 20,
   "id": "001792e1-1f5c-41ac-b050-0bebcba8ac0b",
   "metadata": {},
   "outputs": [
    {
     "data": {
      "text/plain": [
       "47.60722347629797"
      ]
     },
     "execution_count": 20,
     "metadata": {},
     "output_type": "execute_result"
    }
   ],
   "source": [
    "df['wh_est_year'].isnull().sum() / len(df['wh_est_year'])*100"
   ]
  },
  {
   "cell_type": "code",
   "execution_count": 26,
   "id": "ad345e26-ed72-4abb-9e70-626a91c9002a",
   "metadata": {},
   "outputs": [
    {
     "data": {
      "text/plain": [
       "(2016.0, 2003.0)"
      ]
     },
     "execution_count": 26,
     "metadata": {},
     "output_type": "execute_result"
    }
   ],
   "source": [
    "df['wh_est_year'].quantile(0.75),df['wh_est_year'].quantile(0.25)\n"
   ]
  },
  {
   "cell_type": "code",
   "execution_count": 32,
   "id": "97fd3d7d-7152-4617-b1f6-14102c6c1973",
   "metadata": {},
   "outputs": [
    {
     "data": {
      "text/plain": [
       "wh_est_year\n",
       "2000.0    495\n",
       "2002.0    479\n",
       "2006.0    475\n",
       "2014.0    474\n",
       "2007.0    465\n",
       "2004.0    458\n",
       "2016.0    454\n",
       "2001.0    450\n",
       "1998.0    449\n",
       "2018.0    448\n",
       "Name: count, dtype: int64"
      ]
     },
     "execution_count": 32,
     "metadata": {},
     "output_type": "execute_result"
    }
   ],
   "source": [
    "df['wh_est_year'].value_counts().head(10)"
   ]
  },
  {
   "cell_type": "code",
   "execution_count": 34,
   "id": "29f795d0-6547-476f-9f57-2ff0dfa82572",
   "metadata": {},
   "outputs": [
    {
     "data": {
      "text/plain": [
       "2009.4012063765617"
      ]
     },
     "execution_count": 34,
     "metadata": {},
     "output_type": "execute_result"
    }
   ],
   "source": [
    "df['wh_est_year'].mean()"
   ]
  },
  {
   "cell_type": "code",
   "execution_count": 36,
   "id": "79dbff5e-42ae-4e05-ac25-9c5c5ab7df32",
   "metadata": {},
   "outputs": [
    {
     "data": {
      "text/plain": [
       "2009.0"
      ]
     },
     "execution_count": 36,
     "metadata": {},
     "output_type": "execute_result"
    }
   ],
   "source": [
    "df['wh_est_year'].median()"
   ]
  },
  {
   "cell_type": "code",
   "execution_count": 38,
   "id": "dadc6850-e0b2-49c3-88bb-ce016f495620",
   "metadata": {},
   "outputs": [],
   "source": [
    "# imputing the missing value column\n",
    "df['wh_est_year'].fillna(2009,inplace = True)"
   ]
  },
  {
   "cell_type": "code",
   "execution_count": 40,
   "id": "1ed609b3-b823-4853-adf6-1ce898644dde",
   "metadata": {},
   "outputs": [],
   "source": [
    "df['approved_wh_govt_certificate'].fillna(df['approved_wh_govt_certificate'].mode(),inplace = True)"
   ]
  },
  {
   "cell_type": "code",
   "execution_count": 42,
   "id": "b6436642-29d5-4820-a7f3-4ebb35f08cab",
   "metadata": {},
   "outputs": [
    {
     "data": {
      "text/plain": [
       "approved_wh_govt_certificate\n",
       "C     4859\n",
       "B+    4321\n",
       "B     4269\n",
       "A     4158\n",
       "A+    3738\n",
       "Name: count, dtype: int64"
      ]
     },
     "execution_count": 42,
     "metadata": {},
     "output_type": "execute_result"
    }
   ],
   "source": [
    "df['approved_wh_govt_certificate'].value_counts()"
   ]
  }
 ],
 "metadata": {
  "kernelspec": {
   "display_name": "Python [conda env:base] *",
   "language": "python",
   "name": "conda-base-py"
  },
  "language_info": {
   "codemirror_mode": {
    "name": "ipython",
    "version": 3
   },
   "file_extension": ".py",
   "mimetype": "text/x-python",
   "name": "python",
   "nbconvert_exporter": "python",
   "pygments_lexer": "ipython3",
   "version": "3.12.7"
  }
 },
 "nbformat": 4,
 "nbformat_minor": 5
}
